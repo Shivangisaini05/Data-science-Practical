{
 "cells": [
  {
   "cell_type": "code",
   "execution_count": 11,
   "id": "e4605d75-8709-47bd-bc29-52ce1af31ae1",
   "metadata": {},
   "outputs": [
    {
     "ename": "SyntaxError",
     "evalue": "invalid non-printable character U+00A0 (2740185628.py, line 17)",
     "output_type": "error",
     "traceback": [
      "\u001b[1;36m  Cell \u001b[1;32mIn[11], line 17\u001b[1;36m\u001b[0m\n\u001b[1;33m    print(\"Inverse of matrix:\\n\", inv_mat)\u001b[0m\n\u001b[1;37m                                 ^\u001b[0m\n\u001b[1;31mSyntaxError\u001b[0m\u001b[1;31m:\u001b[0m invalid non-printable character U+00A0\n"
     ]
    }
   ],
   "source": [
    "import numpy as np\n",
    "\n",
    "# Broadcasting\n",
    "a = np.array([1, 2, 3])\n",
    "b = np.array([1])\n",
    "print(\"Broadcasting result:\\n\", a + b)\n",
    "\n",
    "# Random arrays and statistics\n",
    "rand_arr = np.random.randint(0, 10, size=(3, 3))\n",
    "print(\"Random Array:\\n\", rand_arr)\n",
    "print(\"Mean:\", np.mean(rand_arr))\n",
    "print(\"Std Dev:\", np.std(rand_arr))\n",
    "\n",
    "# Linear Algebra operations\n",
    "mat = np.array([[1, 2], [3, 4]])\n",
    "inv_mat = np.linalg.inv(mat)\n",
    "print(\"Inverse of matrix:\\n\", inv_mat)"
   ]
  },
  {
   "cell_type": "code",
   "execution_count": null,
   "id": "07bc8805-fc2d-4bca-a1fb-a146ec343f3a",
   "metadata": {},
   "outputs": [],
   "source": []
  }
 ],
 "metadata": {
  "kernelspec": {
   "display_name": "Python 3 (ipykernel)",
   "language": "python",
   "name": "python3"
  },
  "language_info": {
   "codemirror_mode": {
    "name": "ipython",
    "version": 3
   },
   "file_extension": ".py",
   "mimetype": "text/x-python",
   "name": "python",
   "nbconvert_exporter": "python",
   "pygments_lexer": "ipython3",
   "version": "3.13.5"
  }
 },
 "nbformat": 4,
 "nbformat_minor": 5
}
